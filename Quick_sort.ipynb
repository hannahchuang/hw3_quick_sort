{
 "cells": [
  {
   "cell_type": "code",
   "execution_count": 4,
   "id": "d3857e76-7e6f-4a5d-9d88-9d8d0f1d3e55",
   "metadata": {
    "tags": []
   },
   "outputs": [
    {
     "name": "stdout",
     "output_type": "stream",
     "text": [
      "原始陣列: [33, 67, 8, 13, 54, 119, 3, 84, 25, 41]\n",
      "排序後的陣列: [3, 8, 13, 25, 33, 41, 54, 67, 84, 119]\n"
     ]
    }
   ],
   "source": [
    "def quick_sort(arr):\n",
    "    \n",
    "    if len(arr) <= 1:\n",
    "        return arr\n",
    "    \n",
    "    pivot = arr[0]\n",
    "\n",
    "    left = [x for x in arr[1:] if x < pivot]\n",
    "    right = [x for x in arr[1:] if x >= pivot]\n",
    "    \n",
    "    return quick_sort(left) + [pivot] + quick_sort(right)\n",
    "\n",
    "# 測試範例\n",
    "arr = [33,67,8,13,54,119,3,84,25,41]\n",
    "print(\"原始陣列:\", arr)\n",
    "sorted_arr = quick_sort(arr)\n",
    "print(\"排序後的陣列:\", sorted_arr)\n"
   ]
  }
 ],
 "metadata": {
  "kernelspec": {
   "display_name": "Python 3 (ipykernel)",
   "language": "python",
   "name": "python3"
  },
  "language_info": {
   "codemirror_mode": {
    "name": "ipython",
    "version": 3
   },
   "file_extension": ".py",
   "mimetype": "text/x-python",
   "name": "python",
   "nbconvert_exporter": "python",
   "pygments_lexer": "ipython3",
   "version": "3.11.4"
  }
 },
 "nbformat": 4,
 "nbformat_minor": 5
}
